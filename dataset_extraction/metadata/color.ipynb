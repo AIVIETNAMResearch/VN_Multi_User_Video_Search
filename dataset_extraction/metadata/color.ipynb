{
 "cells": [
  {
   "cell_type": "code",
   "execution_count": null,
   "id": "26c57ee6",
   "metadata": {
    "execution": {
     "iopub.execute_input": "2023-09-07T06:34:28.765780Z",
     "iopub.status.busy": "2023-09-07T06:34:28.765227Z",
     "iopub.status.idle": "2023-09-07T06:34:30.888259Z",
     "shell.execute_reply": "2023-09-07T06:34:30.887141Z"
    },
    "papermill": {
     "duration": 2.135984,
     "end_time": "2023-09-07T06:34:30.891163",
     "exception": false,
     "start_time": "2023-09-07T06:34:28.755179",
     "status": "completed"
    },
    "tags": []
   },
   "outputs": [],
   "source": [
    "import os\n",
    "import cv2\n",
    "import json\n",
    "import glob\n",
    "import threading\n",
    "import warnings\n",
    "import numpy as np\n",
    "from tqdm import tqdm\n",
    "from collections import Counter\n",
    "import matplotlib.pyplot as plt\n",
    "from sklearn.cluster import KMeans\n",
    "from skimage.color import rgb2lab, deltaE_cie76\n",
    "from sklearn.exceptions import ConvergenceWarning"
   ]
  },
  {
   "cell_type": "markdown",
   "id": "f059281f",
   "metadata": {
    "papermill": {
     "duration": 0.006603,
     "end_time": "2023-09-07T06:34:30.905063",
     "exception": false,
     "start_time": "2023-09-07T06:34:30.898460",
     "status": "completed"
    },
    "tags": []
   },
   "source": [
    "# Parse data path"
   ]
  },
  {
   "cell_type": "code",
   "execution_count": 2,
   "id": "d0dbc58e",
   "metadata": {
    "execution": {
     "iopub.execute_input": "2023-09-07T06:34:30.921209Z",
     "iopub.status.busy": "2023-09-07T06:34:30.920767Z",
     "iopub.status.idle": "2023-09-07T06:34:30.926060Z",
     "shell.execute_reply": "2023-09-07T06:34:30.924643Z"
    },
    "papermill": {
     "duration": 0.01663,
     "end_time": "2023-09-07T06:34:30.928854",
     "exception": false,
     "start_time": "2023-09-07T06:34:30.912224",
     "status": "completed"
    },
    "tags": []
   },
   "outputs": [],
   "source": [
    "keyframes_dir = './Keyframes'\n",
    "all_keyframe_paths = dict()\n",
    "for part in sorted(os.listdir(keyframes_dir)):\n",
    "    data_part = part.split('_')[-1] # L01, L02 for ex\n",
    "    all_keyframe_paths[data_part] =  dict()\n",
    "\n",
    "for data_part in sorted(all_keyframe_paths.keys()):\n",
    "    data_part_path = f'{keyframes_dir}/{data_part}'\n",
    "    video_dirs = sorted(os.listdir(data_part_path))\n",
    "    video_ids = [video_dir.split('_')[-1] for video_dir in video_dirs]\n",
    "    for video_id, video_dir in zip(video_ids, video_dirs):\n",
    "        keyframe_paths = sorted(glob.glob(f'{data_part_path}/{video_dir}/*.jpg'))\n",
    "        all_keyframe_paths[data_part][video_id] = keyframe_paths"
   ]
  },
  {
   "cell_type": "markdown",
   "id": "c3829d7a",
   "metadata": {
    "papermill": {
     "duration": 0.006605,
     "end_time": "2023-09-07T06:34:34.835429",
     "exception": false,
     "start_time": "2023-09-07T06:34:34.828824",
     "status": "completed"
    },
    "tags": []
   },
   "source": [
    "# Color\n"
   ]
  },
  {
   "cell_type": "code",
   "execution_count": 4,
   "id": "990ce076",
   "metadata": {
    "execution": {
     "iopub.execute_input": "2023-09-07T06:34:34.851395Z",
     "iopub.status.busy": "2023-09-07T06:34:34.850601Z",
     "iopub.status.idle": "2023-09-07T06:34:35.250275Z",
     "shell.execute_reply": "2023-09-07T06:34:35.248766Z"
    },
    "papermill": {
     "duration": 0.412658,
     "end_time": "2023-09-07T06:34:35.254915",
     "exception": false,
     "start_time": "2023-09-07T06:34:34.842257",
     "status": "completed"
    },
    "tags": []
   },
   "outputs": [
    {
     "name": "stdout",
     "output_type": "stream",
     "text": [
      "Custom Pallete\n"
     ]
    },
    {
     "data": {
      "image/png": "[encoded data removed]",
      "text/plain": [
       "<Figure size 640x480 with 11 Axes>"
      ]
     },
     "metadata": {},
     "output_type": "display_data"
    }
   ],
   "source": [
    "color_pallette ={\n",
    "    'black' :  [0, 0, 0],\n",
    "    'blue'  :  [0, 0, 255],\n",
    "    'brown' :  [150, 75, 0],\n",
    "    'green' :  [0, 128, 0],\n",
    "    'grey'  :  [128, 128, 128],\n",
    "    'orange':  [255, 165, 0],\n",
    "    'pink'  :  [255, 192, 203],\n",
    "    'purple':  [128, 0, 128],\n",
    "    'red'   :  [255, 0, 0],\n",
    "    'white' :  [255, 255, 255],\n",
    "    'yellow':  [255, 255, 0]\n",
    "}\n",
    "\n",
    "n_colors = len(color_pallette)\n",
    "\n",
    "print(\"Custom Pallete\")\n",
    "plt.figure(0)\n",
    "for i, (_, value)  in enumerate(color_pallette.items()):\n",
    "    patch = np.ones((20, 20, 3), dtype=np.uint8)\n",
    "    patch[:, :, :] = value\n",
    "    plt.subplot(1, n_colors, i+1)\n",
    "    plt.axis('off')\n",
    "    plt.imshow(patch)\n",
    "plt.show()     "
   ]
  },
  {
   "cell_type": "markdown",
   "id": "0cc2cfcf",
   "metadata": {
    "papermill": {
     "duration": 0.014389,
     "end_time": "2023-09-07T06:34:35.284885",
     "exception": false,
     "start_time": "2023-09-07T06:34:35.270496",
     "status": "completed"
    },
    "tags": []
   },
   "source": [
    "# Helper Function"
   ]
  },
  {
   "cell_type": "code",
   "execution_count": 5,
   "id": "28546edf",
   "metadata": {
    "execution": {
     "iopub.execute_input": "2023-09-07T06:34:35.308315Z",
     "iopub.status.busy": "2023-09-07T06:34:35.307316Z",
     "iopub.status.idle": "2023-09-07T06:34:35.322480Z",
     "shell.execute_reply": "2023-09-07T06:34:35.321616Z"
    },
    "papermill": {
     "duration": 0.026731,
     "end_time": "2023-09-07T06:34:35.325146",
     "exception": false,
     "start_time": "2023-09-07T06:34:35.298415",
     "status": "completed"
    },
    "tags": []
   },
   "outputs": [],
   "source": [
    "class VisualEncoding:\n",
    "  def __init__(self,\n",
    "                classes = ('person', 'bicycle', 'car', 'motorcycle', 'airplane', 'bus', 'train',\n",
    "                           'truck', 'boat', 'traffic light', 'fire hydrant', 'stop sign',\n",
    "                           'parking meter', 'bench', 'bird', 'cat', 'dog', 'horse', 'sheep',\n",
    "                           'cow', 'elephant', 'bear', 'zebra', 'giraffe', 'backpack', 'umbrella',\n",
    "                           'handbag', 'tie', 'suitcase', 'frisbee', 'skis', 'snowboard',\n",
    "                           'sports ball', 'kite', 'baseball bat', 'baseball glove', 'skateboard',\n",
    "                           'surfboard', 'tennis racket', 'bottle', 'wine glass', 'cup', 'fork',\n",
    "                           'knife', 'spoon', 'bowl', 'banana', 'apple', 'sandwich', 'orange',\n",
    "                           'broccoli', 'carrot', 'hot dog', 'pizza', 'donut', 'cake', 'chair',\n",
    "                           'couch', 'potted plant', 'bed', 'dining table', 'toilet', 'tv',\n",
    "                           'laptop', 'mouse', 'remote', 'keyboard', 'cell phone', 'microwave',\n",
    "                           'oven', 'toaster', 'sink', 'refrigerator', 'book', 'clock', 'vase',\n",
    "                           'scissors', 'teddy bear', 'hair drier', 'toothbrush'),\n",
    "                colors = ('black', 'blue', 'brown', 'green', 'grey', 'orange_', 'pink', 'purple',\n",
    "                          'red', 'white', 'yellow'),\n",
    "                row_str = [\"0\", \"1\", \"2\", \"3\", \"4\", \"5\", \"6\"],\n",
    "                col_str = [\"a\", \"b\", \"c\", \"d\", \"e\", \"f\", \"g\"]):\n",
    "    self.classes = classes\n",
    "    self.colors = colors\n",
    "    self.classes2idx = dict()\n",
    "    for i, class_ in enumerate(classes):\n",
    "      self.classes2idx[class_] = i\n",
    "    self.n_row = len(row_str)\n",
    "    self.n_col = len(col_str)\n",
    "\n",
    "    x_pts = np.linspace(0, 1, self.n_row+1)\n",
    "    y_pts = np.linspace(0, 1, self.n_col+1)\n",
    "\n",
    "    self.grid_bboxes = []\n",
    "    self.grid_labels = []\n",
    "    for i in range(self.n_row):\n",
    "      for j in range(self.n_col):\n",
    "        label = col_str[j] + row_str[i]\n",
    "        self.grid_bboxes.append([x_pts[j], y_pts[i], x_pts[j+1], y_pts[i+1]])\n",
    "        self.grid_labels.append(label)\n",
    "\n",
    "    self.grid_bboxes = np.array(self.grid_bboxes)"
   ]
  },
  {
   "cell_type": "code",
   "execution_count": 6,
   "id": "a8b57b76",
   "metadata": {
    "execution": {
     "iopub.execute_input": "2023-09-07T06:34:35.344150Z",
     "iopub.status.busy": "2023-09-07T06:34:35.343436Z",
     "iopub.status.idle": "2023-09-07T06:34:35.350889Z",
     "shell.execute_reply": "2023-09-07T06:34:35.350000Z"
    },
    "papermill": {
     "duration": 0.0194,
     "end_time": "2023-09-07T06:34:35.353424",
     "exception": false,
     "start_time": "2023-09-07T06:34:35.334024",
     "status": "completed"
    },
    "tags": []
   },
   "outputs": [],
   "source": [
    "def match_image_to_pallete(image_colors, pallete_colors, threshold = 0.07):\n",
    "    #converts RGB to CIE 1976 L*a*b values. The CIELAB color space\n",
    "    #(also known as CIE L*a*b*) is a color space defined by the\n",
    "    #International Commission on Illumination (CIE) in 1976.\n",
    "    h, w, _ = image_colors.shape\n",
    "    n_pixels = h*w\n",
    "\n",
    "    image_colors = rgb2lab(np.uint8(np.asarray(image_colors))).reshape(-1, 1, 3)\n",
    "    pallete_colors = rgb2lab(np.uint8(np.asarray([pallete_colors]))).reshape(-1, 3)\n",
    "\n",
    "    #Euclidean distance between two points in Lab color space.\n",
    "    diff = deltaE_cie76(image_colors, pallete_colors)\n",
    "    color_indices, color_frequencies = np.unique(np.argsort(diff)[:, :2].reshape(-1), return_counts=True)\n",
    "    color_indices = color_indices[color_frequencies > n_pixels*threshold]\n",
    "    return color_indices"
   ]
  },
  {
   "cell_type": "code",
   "execution_count": 7,
   "id": "5b56b1a6",
   "metadata": {
    "execution": {
     "iopub.execute_input": "2023-09-07T06:34:35.370933Z",
     "iopub.status.busy": "2023-09-07T06:34:35.370200Z",
     "iopub.status.idle": "2023-09-07T06:34:35.376462Z",
     "shell.execute_reply": "2023-09-07T06:34:35.375082Z"
    },
    "papermill": {
     "duration": 0.018399,
     "end_time": "2023-09-07T06:34:35.379260",
     "exception": false,
     "start_time": "2023-09-07T06:34:35.360861",
     "status": "completed"
    },
    "tags": []
   },
   "outputs": [],
   "source": [
    "encoder = VisualEncoding()\n",
    "grid_bboxes = encoder.grid_bboxes\n",
    "grid_labels = encoder.grid_labels\n",
    "color_pallette_lst = list(color_pallette.values())\n",
    "id2colors = [key for key in color_pallette.keys()]"
   ]
  },
  {
   "cell_type": "markdown",
   "id": "c86281cd",
   "metadata": {
    "papermill": {
     "duration": 0.007517,
     "end_time": "2023-09-07T06:34:35.394241",
     "exception": false,
     "start_time": "2023-09-07T06:34:35.386724",
     "status": "completed"
    },
    "tags": []
   },
   "source": [
    "# Run inference"
   ]
  },
  {
   "cell_type": "code",
   "execution_count": 8,
   "id": "1d2d158a",
   "metadata": {
    "execution": {
     "iopub.execute_input": "2023-09-07T06:34:35.410914Z",
     "iopub.status.busy": "2023-09-07T06:34:35.410478Z",
     "iopub.status.idle": "2023-09-07T06:34:35.418296Z",
     "shell.execute_reply": "2023-09-07T06:34:35.417021Z"
    },
    "papermill": {
     "duration": 0.01949,
     "end_time": "2023-09-07T06:34:35.421025",
     "exception": false,
     "start_time": "2023-09-07T06:34:35.401535",
     "status": "completed"
    },
    "tags": []
   },
   "outputs": [],
   "source": [
    "def thread_helper(i, image, h, w):\n",
    "    x0, y0, x1, y1 = grid_bboxes[i]\n",
    "    x0, y0, x1, y1 = int(x0*w), int(y0*h), int(x1*w), int(y1*h)\n",
    "    crop_image = image[y0:y1, x0:x1, :]\n",
    "    color_indices = match_image_to_pallete(crop_image, color_pallette_lst)\n",
    "    for color_idx in color_indices:\n",
    "        context.append(grid_labels[i] + id2colors[color_idx])"
   ]
  },
  {
   "cell_type": "code",
   "execution_count": null,
   "id": "1d41295a",
   "metadata": {
    "execution": {
     "iopub.execute_input": "2023-09-07T06:34:35.437480Z",
     "iopub.status.busy": "2023-09-07T06:34:35.437028Z",
     "iopub.status.idle": "2023-09-07T10:39:49.503767Z",
     "shell.execute_reply": "2023-09-07T10:39:49.502401Z"
    },
    "papermill": {
     "duration": 14714.097112,
     "end_time": "2023-09-07T10:39:49.525431",
     "exception": false,
     "start_time": "2023-09-07T06:34:35.428319",
     "status": "completed"
    },
    "tags": []
   },
   "outputs": [],
   "source": [
    "save_dir_all = 'context_encoded'\n",
    "if not os.path.exists(save_dir_all):\n",
    "    os.mkdir(save_dir_all)\n",
    "\n",
    "save_dir = f'{save_dir_all}/colors_encoded'\n",
    "if not os.path.exists(save_dir):\n",
    "    os.mkdir(save_dir)\n",
    "\n",
    "for key, video_keyframe_paths in tqdm(all_keyframe_paths.items()):\n",
    "    video_ids = sorted(video_keyframe_paths.keys())\n",
    "    if not os.path.exists(os.path.join(save_dir, key)):\n",
    "        os.mkdir(os.path.join(save_dir, key))\n",
    "\n",
    "    for video_id in tqdm(video_ids):\n",
    "        video_color_contexts = []\n",
    "        video_keyframe_path = video_keyframe_paths[video_id]\n",
    "        for image_path in video_keyframe_path:\n",
    "            image = cv2.imread(image_path)\n",
    "            image = cv2.cvtColor(image, cv2.COLOR_BGR2RGB)\n",
    "            h, w, _ = image.shape\n",
    "            context = []\n",
    "            threads = []\n",
    "            for i in range(len(grid_bboxes)):\n",
    "                thread = threading.Thread(target=thread_helper, args=(i, image, h, w))\n",
    "                thread.start()\n",
    "                threads.append(thread)\n",
    "\n",
    "            for i in range(len(grid_bboxes)):\n",
    "                threads[i].join()\n",
    "\n",
    "            context = ' '.join(map(str, context))\n",
    "\n",
    "            video_color_contexts.append(context)\n",
    "\n",
    "        if len(video_color_contexts) != len(video_keyframe_path):\n",
    "            print(\"Something wrong!!!!!\")\n",
    "            break\n",
    "\n",
    "        # Saving the video color context txt\n",
    "        with open(f\"{save_dir}/{key}/{video_id}.txt\", \"w\") as f:\n",
    "            for item in video_color_contexts:\n",
    "                f.write(\"%s\\n\" % item)    "
   ]
  }
 ],
 "kernelspec": {
  "display_name": "Python 3",
  "language": "python",
  "name": "python3"
 },
 "language_info": {
  "codemirror_mode": {
   "name": "ipython",
   "version": 3
  },
  "file_extension": ".py",
  "mimetype": "text/x-python",
  "name": "python",
  "nbconvert_exporter": "python",
  "pygments_lexer": "ipython3",
  "version": "3.6.4"
 },
 "metadata": {
  "kernelspec": {
   "display_name": "Python 3",
   "language": "python",
   "name": "python3"
  },
  "language_info": {
   "codemirror_mode": {
    "name": "ipython",
    "version": 3
   },
   "file_extension": ".py",
   "mimetype": "text/x-python",
   "name": "python",
   "nbconvert_exporter": "python",
   "pygments_lexer": "ipython3",
   "version": "3.10.12"
  },
  "papermill": {
   "default_parameters": {},
   "duration": 14735.528043,
   "end_time": "2023-09-07T10:39:50.704237",
   "environment_variables": {},
   "exception": null,
   "input_path": "__notebook__.ipynb",
   "output_path": "__notebook__.ipynb",
   "parameters": {},
   "start_time": "2023-09-07T06:34:15.176194",
   "version": "2.4.0"
  }
 },
 "nbformat": 4,
 "nbformat_minor": 5
}
