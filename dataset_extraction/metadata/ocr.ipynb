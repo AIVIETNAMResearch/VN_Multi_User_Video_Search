{
 "cells": [
  {
   "cell_type": "code",
   "execution_count": null,
   "id": "33ad0e7c",
   "metadata": {
    "execution": {
     "iopub.execute_input": "2023-09-07T15:43:03.788978Z",
     "iopub.status.busy": "2023-09-07T15:43:03.788505Z",
     "iopub.status.idle": "2023-09-07T15:43:16.582879Z",
     "shell.execute_reply": "2023-09-07T15:43:16.581719Z"
    },
    "papermill": {
     "duration": 12.804485,
     "end_time": "2023-09-07T15:43:16.586414",
     "exception": false,
     "start_time": "2023-09-07T15:43:03.781929",
     "status": "completed"
    },
    "tags": []
   },
   "outputs": [],
   "source": [
    "!pip install easyocr"
   ]
  },
  {
   "cell_type": "code",
   "execution_count": null,
   "id": "cdebbe19",
   "metadata": {
    "execution": {
     "iopub.execute_input": "2023-09-07T15:43:16.601946Z",
     "iopub.status.busy": "2023-09-07T15:43:16.601583Z",
     "iopub.status.idle": "2023-09-07T15:43:21.210248Z",
     "shell.execute_reply": "2023-09-07T15:43:21.209306Z"
    },
    "papermill": {
     "duration": 4.619053,
     "end_time": "2023-09-07T15:43:21.212912",
     "exception": false,
     "start_time": "2023-09-07T15:43:16.593859",
     "status": "completed"
    },
    "tags": []
   },
   "outputs": [],
   "source": [
    "import os\n",
    "import cv2\n",
    "import glob\n",
    "import json\n",
    "import torch\n",
    "import easyocr\n",
    "import numpy as np\n",
    "import matplotlib.pyplot as plt\n",
    "from tqdm import tqdm"
   ]
  },
  {
   "cell_type": "markdown",
   "id": "8f7302b7",
   "metadata": {
    "papermill": {
     "duration": 0.004496,
     "end_time": "2023-09-07T15:43:21.222704",
     "exception": false,
     "start_time": "2023-09-07T15:43:21.218208",
     "status": "completed"
    },
    "tags": []
   },
   "source": [
    "# Parse data path"
   ]
  },
  {
   "cell_type": "code",
   "execution_count": 3,
   "id": "401780c4",
   "metadata": {
    "execution": {
     "iopub.execute_input": "2023-09-07T15:43:21.235049Z",
     "iopub.status.busy": "2023-09-07T15:43:21.233352Z",
     "iopub.status.idle": "2023-09-07T15:43:21.249084Z",
     "shell.execute_reply": "2023-09-07T15:43:21.248276Z"
    },
    "papermill": {
     "duration": 0.023777,
     "end_time": "2023-09-07T15:43:21.251153",
     "exception": false,
     "start_time": "2023-09-07T15:43:21.227376",
     "status": "completed"
    },
    "tags": []
   },
   "outputs": [],
   "source": [
    "keyframes_dir = './Keyframes'\n",
    "all_keyframe_paths = dict()\n",
    "for part in sorted(os.listdir(keyframes_dir)):\n",
    "    data_part = part.split('_')[-1] # L01, L02 for ex\n",
    "    all_keyframe_paths[data_part] =  dict()\n",
    "\n",
    "for data_part in sorted(all_keyframe_paths.keys()):\n",
    "    data_part_path = f'{keyframes_dir}/{data_part}'\n",
    "    video_dirs = sorted(os.listdir(data_part_path))\n",
    "    video_ids = [video_dir.split('_')[-1] for video_dir in video_dirs]\n",
    "    for video_id, video_dir in zip(video_ids, video_dirs):\n",
    "        keyframe_paths = sorted(glob.glob(f'{data_part_path}/{video_dir}/*.jpg'))\n",
    "        all_keyframe_paths[data_part][video_id] = keyframe_paths"
   ]
  },
  {
   "cell_type": "markdown",
   "id": "8118bbc3",
   "metadata": {
    "papermill": {
     "duration": 0.004463,
     "end_time": "2023-09-07T15:43:48.930547",
     "exception": false,
     "start_time": "2023-09-07T15:43:48.926084",
     "status": "completed"
    },
    "tags": []
   },
   "source": [
    "# Run inference"
   ]
  },
  {
   "cell_type": "code",
   "execution_count": 5,
   "id": "b6ed942c",
   "metadata": {
    "execution": {
     "iopub.execute_input": "2023-09-07T15:43:48.941673Z",
     "iopub.status.busy": "2023-09-07T15:43:48.940805Z",
     "iopub.status.idle": "2023-09-07T15:43:57.117079Z",
     "shell.execute_reply": "2023-09-07T15:43:57.116033Z"
    },
    "papermill": {
     "duration": 8.184771,
     "end_time": "2023-09-07T15:43:57.119909",
     "exception": false,
     "start_time": "2023-09-07T15:43:48.935138",
     "status": "completed"
    },
    "tags": []
   },
   "outputs": [],
   "source": [
    "reader = easyocr.Reader(['vi'], gpu=True) # this needs to run only once to load the model into memory"
   ]
  },
  {
   "cell_type": "code",
   "execution_count": null,
   "id": "eec456b2",
   "metadata": {
    "execution": {
     "iopub.execute_input": "2023-09-07T15:43:57.131090Z",
     "iopub.status.busy": "2023-09-07T15:43:57.130767Z",
     "iopub.status.idle": "2023-09-07T21:55:59.987227Z",
     "shell.execute_reply": "2023-09-07T21:55:59.986315Z"
    },
    "papermill": {
     "duration": 22322.970225,
     "end_time": "2023-09-07T21:56:00.095196",
     "exception": false,
     "start_time": "2023-09-07T15:43:57.124971",
     "status": "completed"
    },
    "tags": []
   },
   "outputs": [],
   "source": [
    "bs = 16\n",
    "save_dir = './ocr'\n",
    "if not os.path.exists(save_dir):\n",
    "    os.mkdir(save_dir)\n",
    "\n",
    "keys = sorted(all_keyframe_paths.keys())\n",
    "for key in tqdm(keys):\n",
    "    video_keyframe_paths = all_keyframe_paths[key]\n",
    "    video_ids = sorted(video_keyframe_paths.keys())\n",
    "\n",
    "    if not os.path.exists(os.path.join(save_dir, key)):\n",
    "        os.mkdir(os.path.join(save_dir, key))\n",
    "\n",
    "    for video_id in tqdm(video_ids):\n",
    "        video_keyframe_path = video_keyframe_paths[video_id]\n",
    "        video_ocr_results = []\n",
    "        for i in range(0, len(video_keyframe_path), bs):\n",
    "            # Support batchsize inferencing\n",
    "            image_paths = video_keyframe_path[i:i+bs]\n",
    "            results = reader.readtext_batched(image_paths, batch_size=len(image_paths))\n",
    "            for result in results:\n",
    "                refined_result = []\n",
    "                for item in result: \n",
    "                    if item[2] > 0.5:\n",
    "                        refined_result.append(item)   \n",
    "                refined_result = easyocr.utils.get_paragraph(refined_result)\n",
    "                text_detected = [item[1] for item in refined_result]\n",
    "                video_ocr_results.append(text_detected)\n",
    "\n",
    "        with open(f'{save_dir}/{key}/{video_id}.json',\"w\", encoding='utf-8') as jsonfile:\n",
    "            json.dump(video_ocr_results, jsonfile, ensure_ascii=False)"
   ]
  }
 ],
 "kernelspec": {
  "display_name": "Python 3",
  "language": "python",
  "name": "python3"
 },
 "language_info": {
  "codemirror_mode": {
   "name": "ipython",
   "version": 3
  },
  "file_extension": ".py",
  "mimetype": "text/x-python",
  "name": "python",
  "nbconvert_exporter": "python",
  "pygments_lexer": "ipython3",
  "version": "3.6.4"
 },
 "metadata": {
  "kernelspec": {
   "display_name": "Python 3",
   "language": "python",
   "name": "python3"
  },
  "language_info": {
   "codemirror_mode": {
    "name": "ipython",
    "version": 3
   },
   "file_extension": ".py",
   "mimetype": "text/x-python",
   "name": "python",
   "nbconvert_exporter": "python",
   "pygments_lexer": "ipython3",
   "version": "3.10.12"
  },
  "papermill": {
   "default_parameters": {},
   "duration": 22389.935883,
   "end_time": "2023-09-07T21:56:03.557286",
   "environment_variables": {},
   "exception": null,
   "input_path": "__notebook__.ipynb",
   "output_path": "__notebook__.ipynb",
   "parameters": {},
   "start_time": "2023-09-07T15:42:53.621403",
   "version": "2.4.0"
  }
 },
 "nbformat": 4,
 "nbformat_minor": 5
}
