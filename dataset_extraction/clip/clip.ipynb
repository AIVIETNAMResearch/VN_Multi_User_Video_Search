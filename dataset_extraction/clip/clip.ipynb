{
 "cells": [
  {
   "cell_type": "code",
   "execution_count": null,
   "id": "bd1c9b2b",
   "metadata": {
    "execution": {
     "iopub.execute_input": "2023-10-02T02:05:56.788678Z",
     "iopub.status.busy": "2023-10-02T02:05:56.787732Z",
     "iopub.status.idle": "2023-10-02T02:06:10.812756Z",
     "shell.execute_reply": "2023-10-02T02:06:10.811317Z"
    },
    "papermill": {
     "duration": 14.031224,
     "end_time": "2023-10-02T02:06:10.815255",
     "exception": false,
     "start_time": "2023-10-02T02:05:56.784031",
     "status": "completed"
    },
    "tags": []
   },
   "outputs": [],
   "source": [
    "# Instal dependency\n",
    "!pip install git+https://github.com/openai/CLIP.git"
   ]
  },
  {
   "cell_type": "code",
   "execution_count": 2,
   "id": "fd8e768f",
   "metadata": {
    "execution": {
     "iopub.execute_input": "2023-10-02T02:06:10.822374Z",
     "iopub.status.busy": "2023-10-02T02:06:10.822078Z",
     "iopub.status.idle": "2023-10-02T02:06:14.353341Z",
     "shell.execute_reply": "2023-10-02T02:06:14.352374Z"
    },
    "papermill": {
     "duration": 3.537078,
     "end_time": "2023-10-02T02:06:14.355483",
     "exception": false,
     "start_time": "2023-10-02T02:06:10.818405",
     "status": "completed"
    },
    "tags": []
   },
   "outputs": [],
   "source": [
    "# Import module\n",
    "import os\n",
    "import clip\n",
    "import glob\n",
    "import torch\n",
    "import numpy as np\n",
    "from PIL import Image\n",
    "from tqdm import tqdm"
   ]
  },
  {
   "cell_type": "markdown",
   "id": "7905a8ef",
   "metadata": {
    "papermill": {
     "duration": 0.002507,
     "end_time": "2023-10-02T02:06:14.360741",
     "exception": false,
     "start_time": "2023-10-02T02:06:14.358234",
     "status": "completed"
    },
    "tags": []
   },
   "source": [
    "# Parse data path"
   ]
  },
  {
   "cell_type": "code",
   "execution_count": 3,
   "id": "e87790cc",
   "metadata": {
    "execution": {
     "iopub.execute_input": "2023-10-02T02:06:14.367342Z",
     "iopub.status.busy": "2023-10-02T02:06:14.366622Z",
     "iopub.status.idle": "2023-10-02T02:06:14.375348Z",
     "shell.execute_reply": "2023-10-02T02:06:14.374562Z"
    },
    "papermill": {
     "duration": 0.013787,
     "end_time": "2023-10-02T02:06:14.377050",
     "exception": false,
     "start_time": "2023-10-02T02:06:14.363263",
     "status": "completed"
    },
    "tags": []
   },
   "outputs": [],
   "source": [
    "keyframes_dir = './Keyframes'\n",
    "all_keyframe_paths = dict()\n",
    "for part in sorted(os.listdir(keyframes_dir)):\n",
    "    data_part = part.split('_')[-1] # L01, L02 for ex\n",
    "    all_keyframe_paths[data_part] =  dict()\n",
    "\n",
    "for data_part in sorted(all_keyframe_paths.keys()):\n",
    "    data_part_path = f'{keyframes_dir}/{data_part}'\n",
    "    video_dirs = sorted(os.listdir(data_part_path))\n",
    "    video_ids = [video_dir.split('_')[-1] for video_dir in video_dirs]\n",
    "    for video_id, video_dir in zip(video_ids, video_dirs):\n",
    "        keyframe_paths = sorted(glob.glob(f'{data_part_path}/{video_dir}/*.jpg'))\n",
    "        all_keyframe_paths[data_part][video_id] = keyframe_paths"
   ]
  },
  {
   "cell_type": "markdown",
   "id": "ebe290e0",
   "metadata": {
    "papermill": {
     "duration": 0.002442,
     "end_time": "2023-10-02T02:06:23.433706",
     "exception": false,
     "start_time": "2023-10-02T02:06:23.431264",
     "status": "completed"
    },
    "tags": []
   },
   "source": [
    "# Model"
   ]
  },
  {
   "cell_type": "code",
   "execution_count": null,
   "id": "424da2e0",
   "metadata": {
    "execution": {
     "iopub.execute_input": "2023-10-02T02:06:23.439960Z",
     "iopub.status.busy": "2023-10-02T02:06:23.439447Z",
     "iopub.status.idle": "2023-10-02T02:06:33.208089Z",
     "shell.execute_reply": "2023-10-02T02:06:33.207104Z"
    },
    "papermill": {
     "duration": 9.774202,
     "end_time": "2023-10-02T02:06:33.210354",
     "exception": false,
     "start_time": "2023-10-02T02:06:23.436152",
     "status": "completed"
    },
    "tags": []
   },
   "outputs": [],
   "source": [
    "##### Load Model #####\n",
    "device = \"cuda\" if torch.cuda.is_available() else \"cpu\"\n",
    "print(device)\n",
    "model, preprocess = clip.load(\"ViT-B/16\", device=device)"
   ]
  },
  {
   "cell_type": "code",
   "execution_count": null,
   "id": "80250af3",
   "metadata": {
    "execution": {
     "iopub.execute_input": "2023-10-02T02:06:33.220900Z",
     "iopub.status.busy": "2023-10-02T02:06:33.220619Z",
     "iopub.status.idle": "2023-10-02T02:40:44.711794Z",
     "shell.execute_reply": "2023-10-02T02:40:44.710894Z"
    },
    "papermill": {
     "duration": 2051.513776,
     "end_time": "2023-10-02T02:40:44.729565",
     "exception": false,
     "start_time": "2023-10-02T02:06:33.215789",
     "status": "completed"
    },
    "tags": []
   },
   "outputs": [],
   "source": [
    "bs = 4\n",
    "save_dir = './CLIP_features'\n",
    "if not os.path.exists(save_dir):\n",
    "    os.mkdir(save_dir)\n",
    "\n",
    "for key, video_keyframe_paths in all_keyframe_paths.items():\n",
    "    video_ids = sorted(video_keyframe_paths.keys())\n",
    "    \n",
    "    if not os.path.exists(os.path.join(save_dir, key)):\n",
    "        os.mkdir(os.path.join(save_dir, key))\n",
    "    \n",
    "    for video_id in tqdm(video_ids):\n",
    "        video_feats = []\n",
    "        video_keyframe_path = video_keyframe_paths[video_id]\n",
    "        for i in range(0, len(video_keyframe_path), bs):\n",
    "            # Support batchsize inferencing\n",
    "            images = []\n",
    "            image_paths = video_keyframe_path[i:i+bs]\n",
    "            for image_path in image_paths:\n",
    "                image = preprocess(Image.open(image_path)).unsqueeze(0)\n",
    "                images.append(image)\n",
    "            images = torch.cat(images).to(device)\n",
    "\n",
    "            with torch.no_grad():\n",
    "                image_feats = model.encode_image(images)\n",
    "            image_feats /= image_feats.norm(dim=-1, keepdim=True)\n",
    "\n",
    "            for b in range(image_feats.shape[0]):\n",
    "                video_feats.append(image_feats[b].detach().cpu().numpy().astype(np.float32).flatten())\n",
    "        \n",
    "        np.save(f'{save_dir}/{key}/{video_id}.npy', video_feats)"
   ]
  }
 ],
 "metadata": {
  "kernelspec": {
   "display_name": "Python 3",
   "language": "python",
   "name": "python3"
  },
  "language_info": {
   "codemirror_mode": {
    "name": "ipython",
    "version": 3
   },
   "file_extension": ".py",
   "mimetype": "text/x-python",
   "name": "python",
   "nbconvert_exporter": "python",
   "pygments_lexer": "ipython3",
   "version": "3.10.12"
  },
  "papermill": {
   "default_parameters": {},
   "duration": 2098.358862,
   "end_time": "2023-10-02T02:40:47.345310",
   "environment_variables": {},
   "exception": null,
   "input_path": "__notebook__.ipynb",
   "output_path": "__notebook__.ipynb",
   "parameters": {},
   "start_time": "2023-10-02T02:05:48.986448",
   "version": "2.4.0"
  }
 },
 "nbformat": 4,
 "nbformat_minor": 5
}
