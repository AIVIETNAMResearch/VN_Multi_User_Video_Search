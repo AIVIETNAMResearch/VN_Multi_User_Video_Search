{
 "cells": [
  {
   "cell_type": "code",
   "execution_count": 1,
   "id": "cbcac5fd",
   "metadata": {},
   "outputs": [],
   "source": [
    "import os\n",
    "import glob\n",
    "import json\n",
    "import pandas as pd"
   ]
  },
  {
   "cell_type": "code",
   "execution_count": 2,
   "id": "1b337f6b",
   "metadata": {},
   "outputs": [],
   "source": [
    "root = 'E:/Competition/AIChallenge2023'\n",
    "des_path = root + '/dict'"
   ]
  },
  {
   "cell_type": "markdown",
   "id": "823e2f60",
   "metadata": {},
   "source": [
    "# Part 1"
   ]
  },
  {
   "cell_type": "code",
   "execution_count": 3,
   "id": "85bfbc66",
   "metadata": {},
   "outputs": [],
   "source": [
    "data_root = root + '/frontend/ai/public/data/KeyFrames'\n",
    "metadata_root = root + '/dict/metadata'\n",
    "scene_root = root + '/dict/SceneJSON'\n",
    "map_keyframes_root = root + '/dict/map_keyframes'\n",
    "fps_path = root + '/dict/fps.json'\n",
    "\n",
    "with open(fps_path, 'r') as f:\n",
    "    fps_dict = json.load(f)"
   ]
  },
  {
   "cell_type": "code",
   "execution_count": 4,
   "id": "df2aff4f",
   "metadata": {
    "scrolled": true
   },
   "outputs": [],
   "source": [
    "scene_id2info = dict()\n",
    "\n",
    "for data_part in sorted(os.listdir(scene_root)):\n",
    "    data_part_path = f'{scene_root}/{data_part}'\n",
    "    scene_id2info[data_part] = dict()\n",
    "    for video_path in sorted(os.listdir(data_part_path)):\n",
    "        video_id = video_path.split('.')[0]\n",
    "        video_path_full = f'{data_part_path}/{video_path}'\n",
    "        video_fps = fps_dict[f'{data_part}_{video_id}']\n",
    "        \n",
    "        with open(video_path_full, 'r') as f:\n",
    "            video_scene_info = json.load(f)\n",
    "            \n",
    "        with open(f'{metadata_root}/{data_part}_{video_id}.json', 'r', encoding=\"utf8\") as f:\n",
    "            video_metadata = json.load(f)\n",
    "        \n",
    "        scene_id2info[data_part][video_id] = {\n",
    "            'video_metadata': video_metadata,\n",
    "            'lst_shot': dict()\n",
    "        }\n",
    "        \n",
    "        for i, item in enumerate(video_scene_info):\n",
    "            scene_id2info[data_part][video_id]['lst_shot'][str(i)] = {\n",
    "                'shot_range': item,\n",
    "                'shot_time': [item[0]/video_fps, item[1]/video_fps],\n",
    "                'lst_keyframe_paths': [],\n",
    "                'lst_keyframe_idxs': []\n",
    "            }"
   ]
  },
  {
   "cell_type": "code",
   "execution_count": 5,
   "id": "ddf1f3f4",
   "metadata": {},
   "outputs": [],
   "source": [
    "global_index = 0\n",
    "id2img_fps = []\n",
    "\n",
    "for data_part in sorted(os.listdir(data_root)):\n",
    "    data_part_path = f'{data_root}/{data_part}'\n",
    "\n",
    "    for video_id in sorted(os.listdir(data_part_path)):\n",
    "        video_dir = f'{data_part_path}/{video_id}'\n",
    "        \n",
    "        temp_data_part = data_part.replace('_extra', '') # replace L01_extra -> L01\n",
    "        with open(f'{scene_root}/{temp_data_part}/{video_id}.json', 'r') as f:\n",
    "            video_scene_info = json.load(f)\n",
    "            \n",
    "        if 'extra' not in data_part:\n",
    "            mapper = pd.read_csv(f'{map_keyframes_root}/{data_part}_{video_id}.csv', index_col='n')\n",
    "        \n",
    "        scene_track = 0\n",
    "        for image_path in sorted(os.listdir(video_dir)):\n",
    "            frame_idx = int(image_path.split('.')[0])\n",
    "            \n",
    "            if 'extra' not in data_part:\n",
    "                frame_idx = int(mapper.loc[frame_idx]['frame_idx'])\n",
    "            \n",
    "            image_path = f'{video_dir}/{image_path}'.replace(f'{root}/frontend/ai/public', '')\n",
    "            \n",
    "            while(len(video_scene_info) > 0 and frame_idx > video_scene_info[0][1]):\n",
    "                video_scene_info.pop(0)\n",
    "                scene_track += 1\n",
    "            \n",
    "            if len(video_scene_info) == 0:\n",
    "                continue\n",
    "            \n",
    "            info = {\n",
    "                \"image_path\": image_path,\n",
    "                \"scene_idx\": f'{temp_data_part}/{video_id}/lst_shot/{str(scene_track)}'\n",
    "            }\n",
    "            \n",
    "            scene_id2info[temp_data_part][video_id]['lst_shot'][str(scene_track)]['lst_keyframe_paths'].append(image_path)\n",
    "            scene_id2info[temp_data_part][video_id]['lst_shot'][str(scene_track)]['lst_keyframe_idxs'].append(global_index)\n",
    "            \n",
    "            id2img_fps.append(info)\n",
    "            \n",
    "            global_index += 1"
   ]
  },
  {
   "cell_type": "code",
   "execution_count": 6,
   "id": "c051fa66",
   "metadata": {},
   "outputs": [],
   "source": [
    "id2img_fps = dict(enumerate(id2img_fps))"
   ]
  },
  {
   "cell_type": "code",
   "execution_count": 7,
   "id": "4f6b68a3",
   "metadata": {},
   "outputs": [
    {
     "name": "stdout",
     "output_type": "stream",
     "text": [
      "Saved E:/Competition/AIChallenge2023/dict\n",
      "Number of Index: 1713480\n"
     ]
    }
   ],
   "source": [
    "with open(f'{des_path}/scene_id2info.json', 'w') as f:\n",
    "    f.write(json.dumps(scene_id2info))\n",
    "    \n",
    "with open(f'{des_path}/id2img_fps.json', 'w') as f:\n",
    "    f.write(json.dumps(id2img_fps))\n",
    "\n",
    "print(f'Saved {des_path}')\n",
    "print(f\"Number of Index: {len(id2img_fps)}\")"
   ]
  },
  {
   "cell_type": "code",
   "execution_count": 8,
   "id": "7833cfad",
   "metadata": {},
   "outputs": [
    {
     "data": {
      "text/plain": [
       "1713480"
      ]
     },
     "execution_count": 8,
     "metadata": {},
     "output_type": "execute_result"
    }
   ],
   "source": [
    "global_index"
   ]
  },
  {
   "cell_type": "markdown",
   "id": "2753575f",
   "metadata": {},
   "source": [
    "# Part 2"
   ]
  },
  {
   "cell_type": "code",
   "execution_count": 9,
   "id": "e1996890",
   "metadata": {},
   "outputs": [],
   "source": [
    "map_keyframes_dict = dict()\n",
    "for video_path in sorted(os.listdir(map_keyframes_root)):\n",
    "    data_part, video_id = video_path.replace('.csv', '').split('_')\n",
    "    mapper = pd.read_csv(f'{map_keyframes_root}/{data_part}_{video_id}.csv', index_col='n')\n",
    "    \n",
    "    key = f'{data_part}_{video_id}'\n",
    "    map_keyframes_dict[key] = dict() \n",
    "    \n",
    "    for index in mapper.index.values:\n",
    "        map_keyframes_dict[key][int(index)] = int(mapper.loc[index]['frame_idx'])"
   ]
  },
  {
   "cell_type": "code",
   "execution_count": 10,
   "id": "8892eb01",
   "metadata": {},
   "outputs": [],
   "source": [
    "with open(f'{des_path}/map_keyframes.json', 'w') as f:\n",
    "    f.write(json.dumps(map_keyframes_dict))"
   ]
  },
  {
   "cell_type": "markdown",
   "id": "a06e5e2a",
   "metadata": {},
   "source": [
    "# Part 3"
   ]
  },
  {
   "cell_type": "code",
   "execution_count": 11,
   "id": "faa71c53",
   "metadata": {},
   "outputs": [],
   "source": [
    "with open(f'{des_path}/scene_id2info.json', 'r') as f:\n",
    "    SceneID2Info = json.load(f)"
   ]
  },
  {
   "cell_type": "code",
   "execution_count": 12,
   "id": "45d7b85c",
   "metadata": {},
   "outputs": [],
   "source": [
    "audios_detection_dir = f'{des_path}/audio_detection'\n",
    "\n",
    "check_error = 0\n",
    "audio_id2img_fps = []\n",
    "for data_part in sorted(os.listdir(audios_detection_dir)):\n",
    "    for audio_detection_path in sorted(os.listdir(f'{audios_detection_dir}/{data_part}')):\n",
    "        audio_id = audio_detection_path.replace('.json', '')\n",
    "        scene_info = SceneID2Info[data_part][audio_id]['lst_shot']\n",
    "        \n",
    "        with open(f'{audios_detection_dir}/{data_part}/{audio_detection_path}', 'r') as f:\n",
    "            audio_shots = json.load(f)\n",
    "            \n",
    "        i = 0\n",
    "        scene_info_len = len(scene_info)\n",
    "        for audio_interval in audio_shots:\n",
    "            result = []\n",
    "            start, end = audio_interval\n",
    "                \n",
    "            while True:\n",
    "                if i >= scene_info_len:\n",
    "                    break\n",
    "                \n",
    "                shot_interval = scene_info[str(i)]['shot_time']\n",
    "                if end <= shot_interval[0]:\n",
    "                    break\n",
    "                if(start >= shot_interval[1]):\n",
    "                    i += 1\n",
    "                    continue\n",
    "                    \n",
    "                result.extend(scene_info[str(i)]['lst_keyframe_idxs'].copy()) \n",
    "                if end > shot_interval[1]:\n",
    "                    i += 1\n",
    "                    start = shot_interval[1]\n",
    "                else:\n",
    "                    break\n",
    "                    \n",
    "            audio_id2img_fps.append(result)\n",
    "            \n",
    "            \n",
    "            check_error += 1"
   ]
  },
  {
   "cell_type": "code",
   "execution_count": 13,
   "id": "374904c9",
   "metadata": {},
   "outputs": [
    {
     "name": "stdout",
     "output_type": "stream",
     "text": [
      "Successfully\n"
     ]
    }
   ],
   "source": [
    "if len(audio_id2img_fps) != check_error:\n",
    "    print(\"Some thing not good!!\")\n",
    "else:\n",
    "    print(\"Successfully\")\n",
    "    \n",
    "audio_id2img_fps = dict(enumerate(audio_id2img_fps))"
   ]
  },
  {
   "cell_type": "code",
   "execution_count": 14,
   "id": "20461ad2",
   "metadata": {},
   "outputs": [],
   "source": [
    "with open(f'{des_path}/audio_id2img_id.json', 'w') as f:\n",
    "    f.write(json.dumps(audio_id2img_fps))"
   ]
  },
  {
   "cell_type": "markdown",
   "id": "adbe5519",
   "metadata": {},
   "source": [
    "# Part 5"
   ]
  },
  {
   "cell_type": "code",
   "execution_count": 15,
   "id": "719cd13f",
   "metadata": {},
   "outputs": [],
   "source": [
    "with open(f'{des_path}/scene_id2info.json', 'r') as f:\n",
    "    SceneID2Info = json.load(f)"
   ]
  },
  {
   "cell_type": "code",
   "execution_count": 16,
   "id": "ee7265c7",
   "metadata": {},
   "outputs": [],
   "source": [
    "video_id2img_id = dict()"
   ]
  },
  {
   "cell_type": "code",
   "execution_count": 17,
   "id": "3604d17c",
   "metadata": {},
   "outputs": [],
   "source": [
    "for data_part in SceneID2Info.keys():\n",
    "    for video_id in SceneID2Info[data_part].keys():\n",
    "        sample_key = f'{data_part}_{video_id}'\n",
    "        video_id2img_id[sample_key] = []\n",
    "        for key, value in SceneID2Info[data_part][video_id]['lst_shot'].items():\n",
    "            video_id2img_id[sample_key].extend(value['lst_keyframe_idxs'])"
   ]
  },
  {
   "cell_type": "code",
   "execution_count": 18,
   "id": "33c9cd27",
   "metadata": {},
   "outputs": [],
   "source": [
    "with open(f'{des_path}/video_id2img_id.json', 'w') as f:\n",
    "    f.write(json.dumps(video_id2img_id))"
   ]
  },
  {
   "cell_type": "markdown",
   "id": "e8f1f68c",
   "metadata": {},
   "source": [
    "# Part 6"
   ]
  },
  {
   "cell_type": "code",
   "execution_count": 10,
   "id": "5962cf67",
   "metadata": {},
   "outputs": [],
   "source": [
    "with open(f'{des_path}/scene_id2info.json', 'r') as f:\n",
    "    SceneID2Info = json.load(f)"
   ]
  },
  {
   "cell_type": "code",
   "execution_count": 11,
   "id": "6088b3ee",
   "metadata": {},
   "outputs": [],
   "source": [
    "import numpy as np\n",
    "from tqdm import tqdm"
   ]
  },
  {
   "cell_type": "code",
   "execution_count": 12,
   "id": "3b0da124",
   "metadata": {},
   "outputs": [],
   "source": [
    "def find_nearest(array, value):     \n",
    "    array = np.asarray(array)\n",
    "    idx = sorted((np.abs(array - value)).argsort()[:2].tolist())\n",
    "    return idx"
   ]
  },
  {
   "cell_type": "code",
   "execution_count": 13,
   "id": "a5e14b92",
   "metadata": {},
   "outputs": [
    {
     "name": "stderr",
     "output_type": "stream",
     "text": [
      "100%|██████████████████████████████████████████████████████████████████████████████████| 36/36 [00:03<00:00, 10.10it/s]\n"
     ]
    }
   ],
   "source": [
    "audios_detection_dir = f'{des_path}/audio_detection'\n",
    "\n",
    "audio_global_id = 0\n",
    "img_id2audio_id = dict()\n",
    "for data_part in tqdm(sorted(os.listdir(audios_detection_dir))):\n",
    "    for audio_detection_path in sorted(os.listdir(f'{audios_detection_dir}/{data_part}')):\n",
    "        audio_id = audio_detection_path.replace('.json', '')\n",
    "        scene_info = SceneID2Info[data_part][audio_id]['lst_shot']\n",
    "        \n",
    "        with open(f'{audios_detection_dir}/{data_part}/{audio_detection_path}', 'r') as f:\n",
    "            audio_shots = json.load(f)\n",
    "        \n",
    "        audio_pivot_shots = []\n",
    "        for audio_shot in audio_shots:\n",
    "            start, end = audio_shot\n",
    "            audio_pivot_shots.append((start+end)/2)\n",
    "        \n",
    "        for shot in scene_info.values():\n",
    "            shot_center = (shot['shot_time'][0] + shot['shot_time'][1])/2\n",
    "            shot_frame_idxs = shot['lst_keyframe_idxs']\n",
    "            nearest_audio = [audio_global_id + val for val in find_nearest(audio_pivot_shots, shot_center)]\n",
    "            \n",
    "            for shot_frame_idx in shot_frame_idxs:\n",
    "                img_id2audio_id[shot_frame_idx] = nearest_audio\n",
    "            \n",
    "        audio_global_id += len(audio_shots)"
   ]
  },
  {
   "cell_type": "code",
   "execution_count": 14,
   "id": "d741a6e4",
   "metadata": {},
   "outputs": [],
   "source": [
    "with open(f'{des_path}/img_id2audio_id.json', 'w') as f:\n",
    "    f.write(json.dumps(img_id2audio_id))"
   ]
  }
 ],
 "metadata": {
  "kernelspec": {
   "display_name": "Python 3 (ipykernel)",
   "language": "python",
   "name": "python3"
  },
  "language_info": {
   "codemirror_mode": {
    "name": "ipython",
    "version": 3
   },
   "file_extension": ".py",
   "mimetype": "text/x-python",
   "name": "python",
   "nbconvert_exporter": "python",
   "pygments_lexer": "ipython3",
   "version": "3.10.4"
  }
 },
 "nbformat": 4,
 "nbformat_minor": 5
}
