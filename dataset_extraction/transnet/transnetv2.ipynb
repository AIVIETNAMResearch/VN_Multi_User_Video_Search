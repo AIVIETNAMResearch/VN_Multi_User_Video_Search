{
 "cells": [
  {
   "cell_type": "code",
   "execution_count": null,
   "id": "43db011a",
   "metadata": {
    "collapsed": true,
    "execution": {
     "iopub.execute_input": "2023-10-02T05:34:25.870630Z",
     "iopub.status.busy": "2023-10-02T05:34:25.869719Z",
     "iopub.status.idle": "2023-10-02T05:34:37.547401Z",
     "shell.execute_reply": "2023-10-02T05:34:37.546030Z"
    },
    "jupyter": {
     "outputs_hidden": true
    },
    "papermill": {
     "duration": 11.683675,
     "end_time": "2023-10-02T05:34:37.549342",
     "exception": false,
     "start_time": "2023-10-02T05:34:25.865667",
     "status": "completed"
    },
    "tags": []
   },
   "outputs": [],
   "source": [
    "!pip install ffmpeg-python pillow\n",
    "!git clone https://github.com/soCzech/TransNetV2.git\n",
    "%cd TransNetV2/inference"
   ]
  },
  {
   "cell_type": "code",
   "execution_count": null,
   "id": "6f0e360e",
   "metadata": {
    "execution": {
     "iopub.execute_input": "2023-10-02T05:34:37.556692Z",
     "iopub.status.busy": "2023-10-02T05:34:37.556304Z",
     "iopub.status.idle": "2023-10-02T05:34:49.217216Z",
     "shell.execute_reply": "2023-10-02T05:34:49.216281Z"
    },
    "papermill": {
     "duration": 11.666998,
     "end_time": "2023-10-02T05:34:49.219467",
     "exception": false,
     "start_time": "2023-10-02T05:34:37.552469",
     "status": "completed"
    },
    "tags": []
   },
   "outputs": [],
   "source": [
    "# Import module\n",
    "import os\n",
    "import cv2\n",
    "import json\n",
    "import glob\n",
    "import ffmpeg\n",
    "import torch\n",
    "import numpy as np\n",
    "from tqdm import tqdm\n",
    "from transnetv2 import TransNetV2"
   ]
  },
  {
   "cell_type": "markdown",
   "id": "a3a3ba54",
   "metadata": {
    "papermill": {
     "duration": 0.00263,
     "end_time": "2023-10-02T05:34:49.225383",
     "exception": false,
     "start_time": "2023-10-02T05:34:49.222753",
     "status": "completed"
    },
    "tags": []
   },
   "source": [
    "# Parse video info"
   ]
  },
  {
   "cell_type": "code",
   "execution_count": 3,
   "id": "c6fdda93",
   "metadata": {
    "execution": {
     "iopub.execute_input": "2023-10-02T05:34:49.232187Z",
     "iopub.status.busy": "2023-10-02T05:34:49.231644Z",
     "iopub.status.idle": "2023-10-02T05:34:49.236502Z",
     "shell.execute_reply": "2023-10-02T05:34:49.235630Z"
    },
    "papermill": {
     "duration": 0.010036,
     "end_time": "2023-10-02T05:34:49.238095",
     "exception": false,
     "start_time": "2023-10-02T05:34:49.228059",
     "status": "completed"
    },
    "tags": []
   },
   "outputs": [],
   "source": [
    "videos_dir = './AIC_Video'\n",
    "all_video_paths = dict()\n",
    "for part in sorted(os.listdir(videos_dir)):\n",
    "    data_part = part.split('_')[-1] # L01, L02 for ex\n",
    "    all_video_paths[data_part] =  dict()\n",
    "\n",
    "for data_part in sorted(all_video_paths.keys()):\n",
    "    data_part_path = f'{videos_dir}/Videos_{data_part}/video'\n",
    "    video_paths = sorted(os.listdir(data_part_path))\n",
    "    video_ids = [video_path.replace('.mp4', '').split('_')[-1] for video_path in video_paths]\n",
    "    for video_id, video_path in zip(video_ids, video_paths):\n",
    "        video_path_full = f'{data_part_path}/{video_path}'\n",
    "        all_video_paths[data_part][video_id] = video_path_full"
   ]
  },
  {
   "cell_type": "markdown",
   "id": "3990ca30",
   "metadata": {
    "papermill": {
     "duration": 0.002565,
     "end_time": "2023-10-02T05:34:49.330306",
     "exception": false,
     "start_time": "2023-10-02T05:34:49.327741",
     "status": "completed"
    },
    "tags": []
   },
   "source": [
    "# Inference"
   ]
  },
  {
   "cell_type": "code",
   "execution_count": null,
   "id": "7989a995",
   "metadata": {
    "execution": {
     "iopub.execute_input": "2023-10-02T05:34:49.337265Z",
     "iopub.status.busy": "2023-10-02T05:34:49.336491Z",
     "iopub.status.idle": "2023-10-02T05:34:59.746186Z",
     "shell.execute_reply": "2023-10-02T05:34:59.745216Z"
    },
    "papermill": {
     "duration": 10.415343,
     "end_time": "2023-10-02T05:34:59.748321",
     "exception": false,
     "start_time": "2023-10-02T05:34:49.332978",
     "status": "completed"
    },
    "tags": []
   },
   "outputs": [],
   "source": [
    "model = TransNetV2()\n",
    "\n",
    "save_dir = './SceneJSON'\n",
    "if not os.path.exists(save_dir):\n",
    "    os.mkdir(save_dir)\n",
    "\n",
    "for key, video_paths_dict in tqdm(all_video_paths.items()):\n",
    "    video_ids = sorted(video_paths_dict.keys())\n",
    "    \n",
    "    if not os.path.exists(os.path.join(save_dir, key)):\n",
    "        os.mkdir(os.path.join(save_dir, key))\n",
    "    \n",
    "    for video_id in tqdm(video_ids):\n",
    "        video_path = video_paths_dict[video_id]\n",
    "        _, single_frame_predictions, _ = model.predict_video(video_path)\n",
    "        \n",
    "        # Generate list of scenes from predictions, returns tuples of (start frame, end frame)\n",
    "        scenes = model.predictions_to_scenes(single_frame_predictions)\n",
    "        \n",
    "        with open(f\"{save_dir}/{key}/{video_id}.json\", 'w') as f:\n",
    "            json.dump(scenes.tolist(), f)"
   ]
  },
  {
   "cell_type": "code",
   "execution_count": 8,
   "id": "dbbf3c18",
   "metadata": {
    "execution": {
     "iopub.execute_input": "2023-10-02T10:22:37.935320Z",
     "iopub.status.busy": "2023-10-02T10:22:37.934810Z",
     "iopub.status.idle": "2023-10-02T10:22:39.030008Z",
     "shell.execute_reply": "2023-10-02T10:22:39.028471Z"
    },
    "papermill": {
     "duration": 1.841836,
     "end_time": "2023-10-02T10:22:39.032765",
     "exception": false,
     "start_time": "2023-10-02T10:22:37.190929",
     "status": "completed"
    },
    "tags": []
   },
   "outputs": [],
   "source": [
    "!rm -r ./TransNetV2"
   ]
  }
 ],
 "metadata": {
  "kernelspec": {
   "display_name": "Python 3",
   "language": "python",
   "name": "python3"
  },
  "language_info": {
   "codemirror_mode": {
    "name": "ipython",
    "version": 3
   },
   "file_extension": ".py",
   "mimetype": "text/x-python",
   "name": "python",
   "nbconvert_exporter": "python",
   "pygments_lexer": "ipython3",
   "version": "3.10.12"
  },
  "papermill": {
   "default_parameters": {},
   "duration": 17307.259832,
   "end_time": "2023-10-02T10:22:45.041932",
   "environment_variables": {},
   "exception": null,
   "input_path": "__notebook__.ipynb",
   "output_path": "__notebook__.ipynb",
   "parameters": {},
   "start_time": "2023-10-02T05:34:17.782100",
   "version": "2.4.0"
  }
 },
 "nbformat": 4,
 "nbformat_minor": 5
}
