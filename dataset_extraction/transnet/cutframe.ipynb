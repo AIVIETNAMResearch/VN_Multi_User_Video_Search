{
 "cells": [
  {
   "cell_type": "code",
   "execution_count": 1,
   "id": "616be9fb",
   "metadata": {
    "execution": {
     "iopub.execute_input": "2023-08-12T10:09:12.695126Z",
     "iopub.status.busy": "2023-08-12T10:09:12.693680Z",
     "iopub.status.idle": "2023-08-12T10:09:12.980518Z",
     "shell.execute_reply": "2023-08-12T10:09:12.979255Z"
    },
    "papermill": {
     "duration": 0.295235,
     "end_time": "2023-08-12T10:09:12.983719",
     "exception": false,
     "start_time": "2023-08-12T10:09:12.688484",
     "status": "completed"
    },
    "tags": []
   },
   "outputs": [],
   "source": [
    "import os\n",
    "import cv2\n",
    "import json\n",
    "import glob\n",
    "import numpy as np\n",
    "from tqdm import tqdm"
   ]
  },
  {
   "cell_type": "markdown",
   "id": "dcc7f288",
   "metadata": {
    "papermill": {
     "duration": 0.002522,
     "end_time": "2023-08-12T10:09:12.989314",
     "exception": false,
     "start_time": "2023-08-12T10:09:12.986792",
     "status": "completed"
    },
    "tags": []
   },
   "source": [
    "# Parse video info"
   ]
  },
  {
   "cell_type": "code",
   "execution_count": 2,
   "id": "aad71890",
   "metadata": {
    "execution": {
     "iopub.execute_input": "2023-08-12T10:09:12.996631Z",
     "iopub.status.busy": "2023-08-12T10:09:12.996234Z",
     "iopub.status.idle": "2023-08-12T10:09:13.006373Z",
     "shell.execute_reply": "2023-08-12T10:09:13.005225Z"
    },
    "papermill": {
     "duration": 0.017065,
     "end_time": "2023-08-12T10:09:13.009127",
     "exception": false,
     "start_time": "2023-08-12T10:09:12.992062",
     "status": "completed"
    },
    "tags": []
   },
   "outputs": [],
   "source": [
    "videos_dir = './AIC_Video'\n",
    "all_video_paths = dict()\n",
    "for part in sorted(os.listdir(videos_dir)):\n",
    "    data_part = part.split('_')[-1] # L01, L02 for ex\n",
    "    all_video_paths[data_part] =  dict()\n",
    "\n",
    "for data_part in sorted(all_video_paths.keys()):\n",
    "    data_part_path = f'{videos_dir}/Videos_{data_part}/video'\n",
    "    video_paths = sorted(os.listdir(data_part_path))\n",
    "    video_ids = [video_path.replace('.mp4', '').split('_')[-1] for video_path in video_paths]\n",
    "    for video_id, video_path in zip(video_ids, video_paths):\n",
    "        video_path_full = f'{data_part_path}/{video_path}'\n",
    "        all_video_paths[data_part][video_id] = video_path_full"
   ]
  },
  {
   "cell_type": "markdown",
   "id": "c433d1a2",
   "metadata": {},
   "source": [
    "# Sampling Utils"
   ]
  },
  {
   "cell_type": "code",
   "execution_count": null,
   "id": "fe9e8fd9",
   "metadata": {},
   "outputs": [],
   "source": [
    "def sample_frames_from_shot(start_idx, end_idx):\n",
    "    '''\n",
    "    intervals = np.linspace(start=start_idx, stop=end_idx, num=n_frames+1).astype(int)\n",
    "    ranges = []\n",
    "    for idx, interv in enumerate(intervals[:-1]):\n",
    "        ranges.append((interv, intervals[idx + 1]))\n",
    "    frame_idxs = [(x[0] + x[1]) // 2 for x in ranges]\n",
    "    '''\n",
    "    idx_first = start_idx\n",
    "    idx_end = end_idx\n",
    "    idx_03 = start_idx + int((end_idx-start_idx)/3)\n",
    "    idx_06 = start_idx + int(2*(end_idx-start_idx)/3)\n",
    "    frame_idxs = [idx_first, idx_03, idx_06, idx_end]\n",
    "    return frame_idxs"
   ]
  },
  {
   "cell_type": "markdown",
   "id": "c545e2f9",
   "metadata": {
    "papermill": {
     "duration": 0.005261,
     "end_time": "2023-08-12T10:09:13.073707",
     "exception": false,
     "start_time": "2023-08-12T10:09:13.068446",
     "status": "completed"
    },
    "tags": []
   },
   "source": [
    "# CutFrame"
   ]
  },
  {
   "cell_type": "code",
   "execution_count": 5,
   "id": "e4ca87de",
   "metadata": {
    "execution": {
     "iopub.execute_input": "2023-08-12T10:09:13.102732Z",
     "iopub.status.busy": "2023-08-12T10:09:13.101676Z",
     "iopub.status.idle": "2023-08-12T10:09:13.108103Z",
     "shell.execute_reply": "2023-08-12T10:09:13.107053Z"
    },
    "papermill": {
     "duration": 0.012857,
     "end_time": "2023-08-12T10:09:13.110280",
     "exception": false,
     "start_time": "2023-08-12T10:09:13.097423",
     "status": "completed"
    },
    "tags": []
   },
   "outputs": [],
   "source": [
    "scene_json_dirs = './SceneJSON'\n",
    "save_dir_all = './Keyframes'\n",
    "if not os.path.exists(save_dir_all):\n",
    "    os.mkdir(save_dir_all)\n",
    "\n",
    "for key in all_video_paths.keys():\n",
    "    save_dir = f'{save_dir_all}/{key}_extra'\n",
    "\n",
    "    if not os.path.exists(save_dir):\n",
    "        os.mkdir(save_dir)\n",
    "    \n",
    "    video_paths_dict = all_video_paths[key]\n",
    "    video_ids = sorted(video_paths_dict.keys())\n",
    "    for video_id in tqdm(video_ids):\n",
    "        video_path = video_paths_dict[video_id]\n",
    "        video_scene_path =  f'{scene_json_dirs}/{key}/{video_id}.json'\n",
    "        \n",
    "        with open(video_scene_path, 'r') as f:\n",
    "            video_scenes = json.load(f)\n",
    "        \n",
    "        if not os.path.exists(f'{save_dir}/{video_id}'):\n",
    "            os.mkdir(f'{save_dir}/{video_id}')\n",
    "        \n",
    "        cap = cv2.VideoCapture(video_path)\n",
    "        for i, shot in enumerate(tqdm(video_scenes)):\n",
    "            shot_frames_id = sample_frames_from_shot(shot[0], shot[1])\n",
    "            for index in shot_frames_id:\n",
    "                cap.set(cv2.CAP_PROP_POS_FRAMES, index)\n",
    "                filename = \"{}/{:0>6d}.jpg\".format(f'{save_dir}/{video_id}', index)\n",
    "                ret, frame = cap.read()\n",
    "                if ret:\n",
    "                    if not cv2.imwrite(filename, frame):\n",
    "                        print('fail save')\n",
    "                else:\n",
    "                    pass\n",
    "        cap.release()"
   ]
  }
 ],
 "metadata": {
  "kernelspec": {
   "display_name": "Python 3",
   "language": "python",
   "name": "python3"
  },
  "language_info": {
   "codemirror_mode": {
    "name": "ipython",
    "version": 3
   },
   "file_extension": ".py",
   "mimetype": "text/x-python",
   "name": "python",
   "nbconvert_exporter": "python",
   "pygments_lexer": "ipython3",
   "version": "3.10.12"
  },
  "papermill": {
   "default_parameters": {},
   "duration": 8710.504205,
   "end_time": "2023-08-12T12:34:13.074593",
   "environment_variables": {},
   "exception": null,
   "input_path": "__notebook__.ipynb",
   "output_path": "__notebook__.ipynb",
   "parameters": {},
   "start_time": "2023-08-12T10:09:02.570388",
   "version": "2.4.0"
  }
 },
 "nbformat": 4,
 "nbformat_minor": 5
}
