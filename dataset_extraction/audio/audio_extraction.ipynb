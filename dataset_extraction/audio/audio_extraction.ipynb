{
 "cells": [
  {
   "cell_type": "code",
   "execution_count": 1,
   "id": "5c3d4fce",
   "metadata": {
    "_cell_guid": "b1076dfc-b9ad-4769-8c92-a6c4dae69d19",
    "_uuid": "8f2839f25d086af736a60e9eeb907d3b93b6e0e5",
    "execution": {
     "iopub.execute_input": "2023-10-02T14:46:28.852641Z",
     "iopub.status.busy": "2023-10-02T14:46:28.852293Z",
     "iopub.status.idle": "2023-10-02T14:46:28.861699Z",
     "shell.execute_reply": "2023-10-02T14:46:28.860707Z"
    },
    "papermill": {
     "duration": 0.016342,
     "end_time": "2023-10-02T14:46:28.863747",
     "exception": false,
     "start_time": "2023-10-02T14:46:28.847405",
     "status": "completed"
    },
    "tags": []
   },
   "outputs": [],
   "source": [
    "import os\n",
    "import sys\n",
    "import subprocess\n",
    "from tqdm import tqdm\n",
    "\n",
    "def convert_video_to_audio_ffmpeg(video_file, save_path, output_ext=\"wav\"):\n",
    "    \"\"\"Converts video to audio directly using `ffmpeg` command\n",
    "    with the help of subprocess module\"\"\"\n",
    "    subprocess.call([\"ffmpeg\", \"-y\", \"-i\", video_file, f\"{save_path}.{output_ext}\"], \n",
    "                    stdout=subprocess.DEVNULL,\n",
    "                    stderr=subprocess.STDOUT)"
   ]
  },
  {
   "cell_type": "markdown",
   "id": "99905d36",
   "metadata": {
    "papermill": {
     "duration": 0.002909,
     "end_time": "2023-10-02T14:46:29.632391",
     "exception": false,
     "start_time": "2023-10-02T14:46:29.629482",
     "status": "completed"
    },
    "tags": []
   },
   "source": [
    "# Parse video info"
   ]
  },
  {
   "cell_type": "code",
   "execution_count": 5,
   "id": "48e283f8",
   "metadata": {
    "execution": {
     "iopub.execute_input": "2023-10-02T14:46:29.641821Z",
     "iopub.status.busy": "2023-10-02T14:46:29.641185Z",
     "iopub.status.idle": "2023-10-02T14:46:29.645777Z",
     "shell.execute_reply": "2023-10-02T14:46:29.644554Z"
    },
    "papermill": {
     "duration": 0.011827,
     "end_time": "2023-10-02T14:46:29.647988",
     "exception": false,
     "start_time": "2023-10-02T14:46:29.636161",
     "status": "completed"
    },
    "tags": []
   },
   "outputs": [],
   "source": [
    "videos_dir = './AIC_Video'\n",
    "all_video_paths = dict()\n",
    "for part in sorted(os.listdir(videos_dir)):\n",
    "    data_part = part.split('_')[-1] # L01, L02 for ex\n",
    "    all_video_paths[data_part] =  dict()\n",
    "\n",
    "for data_part in sorted(all_video_paths.keys()):\n",
    "    data_part_path = f'{videos_dir}/Videos_{data_part}/video'\n",
    "    video_paths = sorted(os.listdir(data_part_path))\n",
    "    video_ids = [video_path.replace('.mp4', '').split('_')[-1] for video_path in video_paths]\n",
    "    for video_id, video_path in zip(video_ids, video_paths):\n",
    "        video_path_full = f'{data_part_path}/{video_path}'\n",
    "        all_video_paths[data_part][video_id] = video_path_full"
   ]
  },
  {
   "cell_type": "markdown",
   "id": "eddd08bf",
   "metadata": {
    "papermill": {
     "duration": 0.002716,
     "end_time": "2023-10-02T14:46:29.711546",
     "exception": false,
     "start_time": "2023-10-02T14:46:29.708830",
     "status": "completed"
    },
    "tags": []
   },
   "source": [
    "# Get audio"
   ]
  },
  {
   "cell_type": "code",
   "execution_count": null,
   "id": "5bbb738b",
   "metadata": {
    "execution": {
     "iopub.execute_input": "2023-10-02T14:46:29.720293Z",
     "iopub.status.busy": "2023-10-02T14:46:29.719713Z",
     "iopub.status.idle": "2023-10-02T15:00:49.875555Z",
     "shell.execute_reply": "2023-10-02T15:00:49.872727Z"
    },
    "papermill": {
     "duration": 860.188851,
     "end_time": "2023-10-02T15:00:49.903779",
     "exception": false,
     "start_time": "2023-10-02T14:46:29.714928",
     "status": "completed"
    },
    "tags": []
   },
   "outputs": [],
   "source": [
    "save_dir_all = './Audios'\n",
    "if not os.path.exists(save_dir_all):\n",
    "    os.mkdir(save_dir_all)\n",
    "\n",
    "for key in tqdm(all_video_paths.keys()):\n",
    "    save_dir = f'{save_dir_all}/{key}'\n",
    "\n",
    "    if not os.path.exists(save_dir):\n",
    "        os.mkdir(save_dir)\n",
    "        \n",
    "    video_paths_dict = all_video_paths[key]\n",
    "    video_ids = sorted(video_paths_dict.keys())\n",
    "    for video_id in tqdm(video_ids):\n",
    "        video_path = video_paths_dict[video_id]\n",
    "        save_path = f'{save_dir}/{video_id}'\n",
    "        convert_video_to_audio_ffmpeg(video_path, save_path)"
   ]
  }
 ],
 "metadata": {
  "kernelspec": {
   "display_name": "Python 3",
   "language": "python",
   "name": "python3"
  },
  "language_info": {
   "codemirror_mode": {
    "name": "ipython",
    "version": 3
   },
   "file_extension": ".py",
   "mimetype": "text/x-python",
   "name": "python",
   "nbconvert_exporter": "python",
   "pygments_lexer": "ipython3",
   "version": "3.10.12"
  },
  "papermill": {
   "default_parameters": {},
   "duration": 3297.550343,
   "end_time": "2023-10-02T15:41:16.321677",
   "environment_variables": {},
   "exception": null,
   "input_path": "__notebook__.ipynb",
   "output_path": "__notebook__.ipynb",
   "parameters": {},
   "start_time": "2023-10-02T14:46:18.771334",
   "version": "2.4.0"
  }
 },
 "nbformat": 4,
 "nbformat_minor": 5
}
