{
 "cells": [
  {
   "cell_type": "code",
   "execution_count": null,
   "id": "30a6dd30",
   "metadata": {
    "execution": {
     "iopub.execute_input": "2023-10-03T14:49:22.935322Z",
     "iopub.status.busy": "2023-10-03T14:49:22.934984Z",
     "iopub.status.idle": "2023-10-03T14:49:34.993559Z",
     "shell.execute_reply": "2023-10-03T14:49:34.992470Z"
    },
    "papermill": {
     "duration": 12.065452,
     "end_time": "2023-10-03T14:49:34.996062",
     "exception": false,
     "start_time": "2023-10-03T14:49:22.930610",
     "status": "completed"
    },
    "tags": []
   },
   "outputs": [],
   "source": [
    "!pip install faiss-cpu"
   ]
  },
  {
   "cell_type": "code",
   "execution_count": 2,
   "id": "161f31e1",
   "metadata": {
    "execution": {
     "iopub.execute_input": "2023-10-03T14:49:35.003792Z",
     "iopub.status.busy": "2023-10-03T14:49:35.003392Z",
     "iopub.status.idle": "2023-10-03T14:49:35.041927Z",
     "shell.execute_reply": "2023-10-03T14:49:35.040814Z"
    },
    "papermill": {
     "duration": 0.045215,
     "end_time": "2023-10-03T14:49:35.044295",
     "exception": false,
     "start_time": "2023-10-03T14:49:34.999080",
     "status": "completed"
    },
    "tags": []
   },
   "outputs": [],
   "source": [
    "import os\n",
    "import glob\n",
    "import faiss\n",
    "import numpy as np\n",
    "from tqdm import tqdm"
   ]
  },
  {
   "cell_type": "markdown",
   "metadata": {},
   "source": [
    "# Clip (open_ai)"
   ]
  },
  {
   "cell_type": "code",
   "execution_count": null,
   "id": "5395c94b",
   "metadata": {
    "collapsed": true,
    "execution": {
     "iopub.execute_input": "2023-10-03T14:49:35.051230Z",
     "iopub.status.busy": "2023-10-03T14:49:35.050853Z",
     "iopub.status.idle": "2023-10-03T14:50:19.479306Z",
     "shell.execute_reply": "2023-10-03T14:50:19.478149Z"
    },
    "jupyter": {
     "outputs_hidden": true
    },
    "papermill": {
     "duration": 44.434072,
     "end_time": "2023-10-03T14:50:19.481202",
     "exception": false,
     "start_time": "2023-10-03T14:49:35.047130",
     "status": "completed"
    },
    "tags": []
   },
   "outputs": [],
   "source": [
    "feature_shape = 512\n",
    "features_dir = './CLIP_features'\n",
    "\n",
    "index = faiss.IndexFlatIP(feature_shape)\n",
    "\n",
    "for data_part in tqdm(sorted(os.listdir(features_dir))):\n",
    "    for feature_path in tqdm(sorted(glob.glob(os.path.join(features_dir, data_part) +'/*.npy'))):\n",
    "        feats = np.load(feature_path)\n",
    "        for feat in feats:\n",
    "            feat = feat.astype(np.float32).reshape(1,-1)\n",
    "            index.add(feat)\n",
    "\n",
    "faiss.write_index(index, f\"faiss_clip.bin\")"
   ]
  },
  {
   "cell_type": "markdown",
   "metadata": {},
   "source": [
    "# Clip (open_clip)"
   ]
  },
  {
   "cell_type": "code",
   "execution_count": 5,
   "id": "474993a2",
   "metadata": {
    "execution": {
     "iopub.execute_input": "2023-10-03T14:50:19.753207Z",
     "iopub.status.busy": "2023-10-03T14:50:19.752812Z",
     "iopub.status.idle": "2023-10-03T14:50:23.454736Z",
     "shell.execute_reply": "2023-10-03T14:50:23.453745Z"
    },
    "papermill": {
     "duration": 3.772456,
     "end_time": "2023-10-03T14:50:23.458220",
     "exception": false,
     "start_time": "2023-10-03T14:50:19.685764",
     "status": "completed"
    },
    "tags": []
   },
   "outputs": [],
   "source": [
    "feature_shape = 768\n",
    "features_dir = './CLIPv2_features'\n",
    "\n",
    "index = faiss.IndexFlatIP(feature_shape)\n",
    "\n",
    "for data_part in tqdm(sorted(os.listdir(features_dir))):\n",
    "    for feature_path in tqdm(sorted(glob.glob(os.path.join(features_dir, data_part) +'/*.npy'))):\n",
    "        feats = np.load(feature_path)\n",
    "        for feat in feats:\n",
    "            feat = feat.astype(np.float32).reshape(1,-1)\n",
    "            index.add(feat)\n",
    "\n",
    "faiss.write_index(index, f\"faiss_clipv2_cosine.bin\")"
   ]
  },
  {
   "cell_type": "code",
   "execution_count": null,
   "id": "3d9503d9",
   "metadata": {
    "papermill": {
     "duration": 0.075092,
     "end_time": "2023-10-03T14:50:23.631254",
     "exception": false,
     "start_time": "2023-10-03T14:50:23.556162",
     "status": "completed"
    },
    "tags": []
   },
   "outputs": [],
   "source": []
  }
 ],
 "metadata": {
  "kernelspec": {
   "display_name": "Python 3",
   "language": "python",
   "name": "python3"
  },
  "language_info": {
   "codemirror_mode": {
    "name": "ipython",
    "version": 3
   },
   "file_extension": ".py",
   "mimetype": "text/x-python",
   "name": "python",
   "nbconvert_exporter": "python",
   "pygments_lexer": "ipython3",
   "version": "3.10.12"
  },
  "papermill": {
   "default_parameters": {},
   "duration": 70.78005,
   "end_time": "2023-10-03T14:50:24.873190",
   "environment_variables": {},
   "exception": null,
   "input_path": "__notebook__.ipynb",
   "output_path": "__notebook__.ipynb",
   "parameters": {},
   "start_time": "2023-10-03T14:49:14.093140",
   "version": "2.4.0"
  }
 },
 "nbformat": 4,
 "nbformat_minor": 5
}
